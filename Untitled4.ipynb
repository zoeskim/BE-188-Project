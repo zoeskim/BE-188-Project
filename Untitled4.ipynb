{
 "cells": [
  {
   "cell_type": "code",
   "execution_count": 1,
   "metadata": {},
   "outputs": [],
   "source": [
    "import scipy as sp, numpy as np\n",
    "import pandas as pd;"
   ]
  },
  {
   "cell_type": "code",
   "execution_count": 2,
   "metadata": {},
   "outputs": [],
   "source": [
    "data = pd.read_csv('/Users/zoekim/Desktop/phosphorylation-data.csv', header=0)\n",
    "data = np.array(data)\n",
    "peptide_phosphosite = data[:,0]\n",
    "protein_description = data[:,1]\n",
    "PC9 = data[:,2]\n",
    "Erl = data[:,3]\n",
    "R428 = data[:,4]\n",
    "Erl_R428 = data[:,5]\n",
    "Erl_HGF = data[:,6]\n",
    "Erl_FGF = data[:,7]\n",
    "Erl_IGF = data[:,8]\n",
    "KO_Erl = data[:,9]\n",
    "KO_R428 = data[:,10]\n",
    "KO_Erl_R428 = data[:,11]"
   ]
  },
  {
   "cell_type": "code",
   "execution_count": null,
   "metadata": {},
   "outputs": [],
   "source": []
  },
  {
   "cell_type": "code",
   "execution_count": null,
   "metadata": {},
   "outputs": [],
   "source": []
  },
  {
   "cell_type": "code",
   "execution_count": null,
   "metadata": {},
   "outputs": [],
   "source": []
  }
 ],
 "metadata": {
  "kernelspec": {
   "display_name": "Python 3",
   "language": "python",
   "name": "python3"
  },
  "language_info": {
   "codemirror_mode": {
    "name": "ipython",
    "version": 3
   },
   "file_extension": ".py",
   "mimetype": "text/x-python",
   "name": "python",
   "nbconvert_exporter": "python",
   "pygments_lexer": "ipython3",
   "version": "3.7.1"
  }
 },
 "nbformat": 4,
 "nbformat_minor": 2
}
